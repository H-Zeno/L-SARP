{
 "cells": [
  {
   "cell_type": "code",
   "execution_count": 5,
   "metadata": {},
   "outputs": [
    {
     "name": "stdout",
     "output_type": "stream",
     "text": [
      "Project root already in Python path: /local/home/zhamers/L-SARP\n"
     ]
    }
   ],
   "source": [
    "# Imports\n",
    "import os\n",
    "import json\n",
    "import logging\n",
    "import sys\n",
    "from typing import List\n",
    "\n",
    "# Assuming your notebook is in a subdirectory like 'analysis' or 'notebooks'\n",
    "# Adjust the path manipulation if your notebook is located elsewhere relative to the root\n",
    "project_root = os.path.abspath(os.path.join(os.getcwd(), '..')) \n",
    "\n",
    "# Or, if you know the absolute path is always the same:\n",
    "# project_root = '/local/home/zhamers/L-SARP' \n",
    "\n",
    "if project_root not in sys.path:\n",
    "    print(f\"Adding project root to Python path: {project_root}\")\n",
    "    sys.path.insert(0, project_root)\n",
    "else:\n",
    "    print(f\"Project root already in Python path: {project_root}\")\n",
    "\n",
    "from utils.recursive_config import Config\n",
    "from configs.goal_execution_log_models import GoalExecutionLogsCollection\n",
    "\n",
    "# Configurations and Logging\n",
    "config = Config()"
   ]
  },
  {
   "cell_type": "code",
   "execution_count": 6,
   "metadata": {},
   "outputs": [],
   "source": [
    "# Get the path for log analysis\n",
    "path_to_scene_data = config.get('robot_planner_settings').get('path_to_scene_data')\n",
    "logs_path = config.get('robot_planner_settings').get('path_for_log_analysis')\n",
    "path_for_log_analysis = os.path.join(project_root, path_to_scene_data, logs_path)\n",
    "logging.info(f\"Path for log analysis: {path_for_log_analysis}\")\n",
    "\n",
    "# Load the JSON data from the file\n",
    "with open(path_for_log_analysis) as f:\n",
    "    raw_logs_data = json.load(f)\n",
    "\n",
    "# Extract the log entries (values) and put them in the expected structure\n",
    "formatted_logs_data = {\"goal_execution_logs\": list(raw_logs_data.values())}\n",
    "\n",
    "# Validate the formatted data using the Pydantic model\n",
    "goal_execution_logs_collection = GoalExecutionLogsCollection.model_validate(formatted_logs_data)"
   ]
  },
  {
   "cell_type": "markdown",
   "metadata": {},
   "source": [
    "\n"
   ]
  }
 ],
 "metadata": {
  "kernelspec": {
   "display_name": "LSARP",
   "language": "python",
   "name": "python3"
  },
  "language_info": {
   "codemirror_mode": {
    "name": "ipython",
    "version": 3
   },
   "file_extension": ".py",
   "mimetype": "text/x-python",
   "name": "python",
   "nbconvert_exporter": "python",
   "pygments_lexer": "ipython3",
   "version": "3.10.16"
  }
 },
 "nbformat": 4,
 "nbformat_minor": 2
}
